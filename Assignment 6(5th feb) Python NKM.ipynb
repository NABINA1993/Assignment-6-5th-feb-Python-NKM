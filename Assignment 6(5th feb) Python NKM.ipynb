{
 "cells": [
  {
   "cell_type": "code",
   "execution_count": 5,
   "id": "0ac3cf36",
   "metadata": {},
   "outputs": [],
   "source": [
    "#1.Explain the class and object with respect to OOP.Give a suitable example.\n",
    "ans=\"\"\"\"A class is a collection of objects. A class contains the blueprints or the prototype from which the objects are being \n",
    "created. It is a logical entity that contains some attributes and methods. \n",
    "\n",
    "To understand the need for creating a class let’s consider an example, \n",
    "let’s say you wanted to track the number of dogs that may have different attributes like breed, age.\n",
    "If a list is used, the first element could be the dog’s breed while the second element could represent its age.\n",
    "Let’s suppose there are 100 different dogs, then how would you know which element is supposed to be which?\n",
    "What if you wanted to add other properties to these dogs? \n",
    "This lacks organization and it’s the exact need for classes. \"\"\"\n",
    "\n",
    "#example:class\n",
    "class dog:\n",
    "    pass"
   ]
  },
  {
   "cell_type": "code",
   "execution_count": 6,
   "id": "fe270402",
   "metadata": {},
   "outputs": [],
   "source": [
    "#object\n",
    "\"\"\"\"\"The object is an entity that has a state and behavior associated with it. \n",
    "It may be any real-world object like a mouse, keyboard, chair, table, pen, etc. Integers,\n",
    "strings, floating-point numbers, even arrays, and dictionaries, are all objects. More specifically,\n",
    "any single integer or any single string is an object. The number 12 is an object, the string “Hello, world” is an object,\n",
    "a list is an object that can hold other objects, and so on. You’ve been using objects all along and may not even realize it.\"\"\"\n",
    "#example:object\n",
    "object=dog()"
   ]
  },
  {
   "cell_type": "code",
   "execution_count": 2,
   "id": "10b20e24",
   "metadata": {},
   "outputs": [],
   "source": [
    "#2.Name the four pillars of OOPs.\n",
    "\"\"\"\"four pillars of object-oriented programming (OOP). These four pillars are:\n",
    "Inheritance, Polymorphism, Encapsulation and Abstraction.\"\"\""
   ]
  },
  {
   "cell_type": "code",
   "execution_count": 7,
   "id": "96b6acbc",
   "metadata": {},
   "outputs": [
    {
     "name": "stdout",
     "output_type": "stream",
     "text": [
      "Hello, my name is Nikhil\n"
     ]
    }
   ],
   "source": [
    "#3.Explaine whay the __init__()function is used .Give a Example.\n",
    "\"\"\"\"All classes have a function called __init__(), which is always executed when the class is being initiated.\n",
    "Use the __init__() function to assign values to object properties, or other operations that are necessary to do \n",
    "when the object is being created:\"\"\"\n",
    "# A Sample class with init method\n",
    "class Person:\n",
    " \n",
    "    # init method or constructor\n",
    "    def __init__(self, name):\n",
    "        self.name = name\n",
    " \n",
    "    # Sample Method\n",
    "    def say_hi(self):\n",
    "        print('Hello, my name is', self.name)\n",
    " \n",
    " \n",
    "p = Person('Nikhil')\n",
    "p.say_hi()"
   ]
  },
  {
   "cell_type": "code",
   "execution_count": 4,
   "id": "c97a3f40",
   "metadata": {},
   "outputs": [],
   "source": [
    "#4.why self is used in OOPs.\n",
    "\"\"\"\"The self parameter is a reference to the current instance of the class,\n",
    "and is used to access variables that belongs to the class.\"\"\"\n"
   ]
  },
  {
   "cell_type": "code",
   "execution_count": 10,
   "id": "6043ea0a",
   "metadata": {},
   "outputs": [
    {
     "data": {
      "text/plain": [
       "'\"Single inheritance,\\n Multiple inheritances,\\n Multilevel inheritance,\\n Hierarchical inheritance,\\n Hybrid inheritance'"
      ]
     },
     "execution_count": 10,
     "metadata": {},
     "output_type": "execute_result"
    }
   ],
   "source": [
    "#5.what is the inheraitance?Give a Example of each type of inheritance.\n",
    "\"\"\"\"Single inheritance,\n",
    " Multiple inheritances,\n",
    " Multilevel inheritance,\n",
    " Hierarchical inheritance,\n",
    " Hybrid inheritance\"\"\""
   ]
  },
  {
   "cell_type": "code",
   "execution_count": null,
   "id": "6cd636c0",
   "metadata": {},
   "outputs": [],
   "source": []
  },
  {
   "cell_type": "code",
   "execution_count": null,
   "id": "37a2cfba",
   "metadata": {},
   "outputs": [],
   "source": []
  }
 ],
 "metadata": {
  "kernelspec": {
   "display_name": "Python 3 (ipykernel)",
   "language": "python",
   "name": "python3"
  },
  "language_info": {
   "codemirror_mode": {
    "name": "ipython",
    "version": 3
   },
   "file_extension": ".py",
   "mimetype": "text/x-python",
   "name": "python",
   "nbconvert_exporter": "python",
   "pygments_lexer": "ipython3",
   "version": "3.10.5"
  }
 },
 "nbformat": 4,
 "nbformat_minor": 5
}
